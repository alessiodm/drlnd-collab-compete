{
 "cells": [
  {
   "cell_type": "markdown",
   "metadata": {},
   "source": [
    "# Tennis MA-DDPG\n",
    "\n",
    "This is the report for the Udacity Deep Reinforcement Learning Nanodegree collaboration and competition project. See the `README.md` for a description of the Unity environment."
   ]
  },
  {
   "cell_type": "markdown",
   "metadata": {},
   "source": [
    "![Tennis_environment_solved](tennis_solved.png)"
   ]
  },
  {
   "cell_type": "markdown",
   "metadata": {},
   "source": [
    "## Learning Algorithm\n",
    "\n",
    "The algorithm used to solve the environment is multi-agent DDPG, as described in the [paper](https://arxiv.org/abs/1706.02275) and the Udacity MA-RL lectures and laboratory, together with the provided [DDPG implementation](https://github.com/udacity/deep-reinforcement-learning/tree/master/ddpg-pendulum) and original [DDPG paper](https://arxiv.org/pdf/1509.02971.pdf).\n",
    "\n",
    "This implementation is different in various aspects, from code structure to environment-specific settings.\n",
    "\n",
    "### Actor and Critic Networks\n",
    "\n",
    "Both actor and critic networks are feed-forward neural networks with four fully-connected layers. The hidden layer dimensions are `256`, `128`, `64`, `32` for both actor and critic. The non-linearity is _leaky ReLU_ for both the critic and the actor, with the actor having the last non-linearity being _TanH_.\n",
    "\n",
    "The actor input size is the state size (i.e., `8` stated for the Tennis environment), and the output size the action size (i.e., `2`). While the critic ingests all states from all agents along with all actions, with an expanded state of: `(state_size + action_size) * num_agents`.\n",
    "\n",
    "#### Initialization\n",
    "\n",
    "The neural network linear layers initialization is [`xavier_uniform`](https://pytorch.org/docs/stable/nn.init.html#torch.nn.init.xavier_uniform_) with `0.4` gain, and weights of the terminal layer are scaled by a factor of `1e-3`.\n",
    "\n",
    "Weights initialization has a pretty significant impact on speed and convergence of learning.\n",
    "\n",
    "### Hyperparameters\n",
    "\n",
    " * Initial OU noise: `1.0`\n",
    " * Noise reduction: `0.9999`\n",
    " * Min noise: `0.005`\n",
    " * Replay buffer size: `1e5`\n",
    " * Sampled batch size: `256`\n",
    " * Agent updates every `2` episodes\n",
    " * Train agents `4` times on every update\n",
    " * Discount $\\gamma$: `0.995`\n",
    " * Tau $\\tau$: `1e-3`\n",
    " * Actor / critic LR: `1e-4` / `3e-4`\n",
    " * Max episodes: `1500`\n",
    " * Max timesteps per episode: `1000`"
   ]
  },
  {
   "cell_type": "markdown",
   "metadata": {},
   "source": [
    "## Training\n",
    "\n",
    "Training runs for `1500` episodes. The environment is solved at episode `1105` because the average score for 100 episodes is greater than `0.5`. The average score keeps improving to around `1.55` at episode `1250`, when it starts deteriorating until the last episode with no sign of recovery.\n",
    "\n",
    "**NOTE**: The pretrained weights included with the project are the ones of the _best_ score achieved during training.\n",
    "\n",
    "Let's import the necessary module to run the training:"
   ]
  },
  {
   "cell_type": "code",
   "execution_count": 1,
   "metadata": {},
   "outputs": [],
   "source": [
    "from agent import MultiAgent\n",
    "from tennis import Tennis\n",
    "from ma_ddpg import MA_DDPG\n",
    "\n",
    "import matplotlib.pyplot as plt\n",
    "%matplotlib inline\n",
    "import numpy as np\n",
    "import pandas as pd"
   ]
  },
  {
   "cell_type": "code",
   "execution_count": 2,
   "metadata": {},
   "outputs": [],
   "source": [
    "# Utility plotting function\n",
    "def plot(scores):\n",
    "    \"\"\"Plot scores and their running average.\"\"\"\n",
    "    avgs = pd.Series(scores).rolling(100).mean()\n",
    "    x = np.arange(len(scores))\n",
    "    plt.figure('Episode scores')\n",
    "    plt.plot(x, scores, label='Scores')\n",
    "    plt.plot(x, avgs, 'r', label='Running average')\n",
    "    plt.ylabel('Score')\n",
    "    plt.xlabel('Episode #')\n",
    "    plt.show()"
   ]
  },
  {
   "cell_type": "code",
   "execution_count": 3,
   "metadata": {},
   "outputs": [
    {
     "name": "stderr",
     "output_type": "stream",
     "text": [
      "INFO:unityagents:\n",
      "'Academy' started successfully!\n",
      "Unity Academy name: Academy\n",
      "        Number of Brains: 1\n",
      "        Number of External Brains : 1\n",
      "        Lesson number : 0\n",
      "        Reset Parameters :\n",
      "\t\t\n",
      "Unity brain name: TennisBrain\n",
      "        Number of Visual Observations (per agent): 0\n",
      "        Vector Observation space type: continuous\n",
      "        Vector Observation space size (per agent): 8\n",
      "        Number of stacked Vector Observation: 3\n",
      "        Vector Action space type: continuous\n",
      "        Vector Action space size (per agent): 2\n",
      "        Vector Action descriptions: , \n"
     ]
    },
    {
     "name": "stdout",
     "output_type": "stream",
     "text": [
      "\n"
     ]
    }
   ],
   "source": [
    "# Create the Tennis world!\n",
    "tennis_world = Tennis()"
   ]
  },
  {
   "cell_type": "markdown",
   "metadata": {},
   "source": [
    "Let's train an agent!"
   ]
  },
  {
   "cell_type": "code",
   "execution_count": 4,
   "metadata": {},
   "outputs": [
    {
     "name": "stdout",
     "output_type": "stream",
     "text": [
      "Episode n.50 completed. Average score: 0.000, Noise: 0.93109, Timestep: 714\n",
      "Episode n.100 completed. Average score: 0.014, Noise: 0.84400, Timestep: 1696\n",
      "Episode n.150 completed. Average score: 0.022, Noise: 0.76796, Timestep: 2640\n",
      "Episode n.200 completed. Average score: 0.023, Noise: 0.69176, Timestep: 3685\n",
      "Episode n.250 completed. Average score: 0.026, Noise: 0.63215, Timestep: 4586\n",
      "Episode n.300 completed. Average score: 0.025, Noise: 0.57526, Timestep: 5529\n",
      "Episode n.350 completed. Average score: 0.020, Noise: 0.52670, Timestep: 6411\n",
      "Episode n.400 completed. Average score: 0.019, Noise: 0.48050, Timestep: 7329\n",
      "Episode n.450 completed. Average score: 0.025, Noise: 0.43817, Timestep: 8251\n",
      "Episode n.500 completed. Average score: 0.039, Noise: 0.38730, Timestep: 9485\n",
      "Episode n.550 completed. Average score: 0.070, Noise: 0.33325, Timestep: 10988\n",
      "Episode n.600 completed. Average score: 0.087, Noise: 0.28401, Timestep: 12587\n",
      "Episode n.650 completed. Average score: 0.088, Noise: 0.24271, Timestep: 14158\n",
      "Episode n.700 completed. Average score: 0.091, Noise: 0.20481, Timestep: 15856\n",
      "Episode n.750 completed. Average score: 0.094, Noise: 0.17390, Timestep: 17492\n",
      "Episode n.800 completed. Average score: 0.103, Noise: 0.13814, Timestep: 19794\n",
      "Episode n.850 completed. Average score: 0.111, Noise: 0.11204, Timestep: 21888\n",
      "Episode n.900 completed. Average score: 0.134, Noise: 0.08238, Timestep: 24963\n",
      "Episode n.950 completed. Average score: 0.149, Noise: 0.06262, Timestep: 27705\n",
      "Episode n.1000 completed. Average score: 0.217, Noise: 0.03493, Timestep: 33543\n",
      "Episode n.1050 completed. Average score: 0.270, Noise: 0.02154, Timestep: 38377\n",
      "Episode n.1100 completed. Average score: 0.428, Noise: 0.00648, Timestep: 50381\n",
      "\n",
      "Environment solved at episode n.1105 with average score: 0.507\n",
      "\n",
      "Episode n.1150 completed. Average score: 0.734, Noise: 0.00123, Timestep: 66975\n",
      "Episode n.1200 completed. Average score: 1.186, Noise: 0.00007, Timestep: 96136\n",
      "Episode n.1250 completed. Average score: 1.551, Noise: 0.00000, Timestep: 126569\n",
      "Episode n.1300 completed. Average score: 1.253, Noise: 0.00000, Timestep: 144444\n",
      "Episode n.1350 completed. Average score: 0.975, Noise: 0.00000, Timestep: 164616\n",
      "Episode n.1400 completed. Average score: 0.840, Noise: 0.00000, Timestep: 177555\n",
      "Episode n.1450 completed. Average score: 0.681, Noise: 0.00000, Timestep: 191492\n",
      "Episode n.1500 completed. Average score: 0.645, Noise: 0.00000, Timestep: 202869\n"
     ]
    }
   ],
   "source": [
    "main_agent = tennis_world.new_agent()\n",
    "main_scores = tennis_world.train(main_agent)"
   ]
  },
  {
   "cell_type": "code",
   "execution_count": 6,
   "metadata": {},
   "outputs": [
    {
     "data": {
      "image/png": "[encoded data removed]",
      "text/plain": [
       "<Figure size 432x288 with 1 Axes>"
      ]
     },
     "metadata": {
      "needs_background": "light"
     },
     "output_type": "display_data"
    }
   ],
   "source": [
    "plot(main_scores)"
   ]
  },
  {
   "cell_type": "markdown",
   "metadata": {},
   "source": [
    "## Future Improvements\n",
    "\n",
    "Here are some ideas for future improvements on this project:\n",
    "\n",
    " * It would be interesting to understand why there is deterioration of performance after episode `1250`: may be the neural network weights are too large or the gradient explodes? What can be done about it?\n",
    " * Fine-tuning noise turns out to be critical to have early reward signals to learn at the initial stage of learning, and then keep learning to solve the environment. It'd be interesting to introduce a prioritized experience replay and see if it helps in making sure the agent learns from most meaningful experiences early on.\n",
    " * Neural network initialization: training seems to be very sensistive to weights initialization, it'd be interesting to experiment and plot the different ways the same network learns with different initialization strategies."
   ]
  }
 ],
 "metadata": {
  "kernelspec": {
   "display_name": "drlnd",
   "language": "python",
   "name": "drlnd"
  },
  "language_info": {
   "codemirror_mode": {
    "name": "ipython",
    "version": 3
   },
   "file_extension": ".py",
   "mimetype": "text/x-python",
   "name": "python",
   "nbconvert_exporter": "python",
   "pygments_lexer": "ipython3",
   "version": "3.6.13"
  }
 },
 "nbformat": 4,
 "nbformat_minor": 2
}
